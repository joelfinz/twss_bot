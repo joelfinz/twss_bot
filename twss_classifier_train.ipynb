{
 "cells": [
  {
   "cell_type": "code",
   "execution_count": 18,
   "metadata": {},
   "outputs": [],
   "source": [
    "import tensorflow as tf\n",
    "import csv\n",
    "import numpy as np"
   ]
  },
  {
   "cell_type": "code",
   "execution_count": 159,
   "metadata": {},
   "outputs": [],
   "source": [
    "twss_conv_pretext = []\n",
    "with open(\"twss_conv.txt\", \"r\") as file:\n",
    "    twss_conv_pretext.append(file.readlines())\n",
    "\n",
    "file.close()"
   ]
  },
  {
   "cell_type": "code",
   "execution_count": 163,
   "metadata": {},
   "outputs": [],
   "source": [
    "twss_conv_raw = []\n",
    "for conv in twss_conv_pretext[0]:\n",
    "    twss_conv_raw.append(conv.strip('\\n'))"
   ]
  },
  {
   "cell_type": "code",
   "execution_count": 169,
   "metadata": {},
   "outputs": [],
   "source": [
    "twss_conv = np.array(twss_conv_raw)"
   ]
  },
  {
   "cell_type": "code",
   "execution_count": 170,
   "metadata": {},
   "outputs": [
    {
     "data": {
      "text/plain": [
       "array([\"Put it back in, it's still moist in the middle.\",\n",
       "       \"Now if I can just get it in the hole, I'll show it to you up close and personal.\",\n",
       "       '...a great penetration!',\n",
       "       \"That just kind of squirted out there, didn't it!\",\n",
       "       'Oh it feels so good, you just insert here and squeeze.'],\n",
       "      dtype='<U261')"
      ]
     },
     "execution_count": 170,
     "metadata": {},
     "output_type": "execute_result"
    }
   ],
   "source": [
    "twss_conv[:5]"
   ]
  },
  {
   "cell_type": "code",
   "execution_count": 95,
   "metadata": {},
   "outputs": [],
   "source": [
    "casual_conv_raw = []\n",
    "with open(\"casual_conv.csv\", \"r\") as file:\n",
    "    csv_reader = csv.DictReader(file)\n",
    "    \n",
    "    for row in csv_reader:\n",
    "        casual_conv_raw.append(row['1'])"
   ]
  },
  {
   "cell_type": "code",
   "execution_count": 96,
   "metadata": {},
   "outputs": [
    {
     "data": {
      "text/plain": [
       "[\"I have a pixel. It's pretty great. Much better than what I had before. \",\n",
       " 'Does it really charge all the way in 15 min?',\n",
       " \"Pretty fast. I've never timed it, but it's under half an hour. \",\n",
       " \"Samsung Galaxy J1. It's my first cell phone and I've had it for 7 months.\",\n",
       " \"What do you think of it? Anything you don't like?\",\n",
       " \"I love it. I can't think of anything I don't like about it.\",\n",
       " \"LG Optimus V. I know, it's old.\",\n",
       " \"If it does it's job, it's good enough!\",\n",
       " \"Don't kill yourself OP.\",\n",
       " \"I won't give them the satisfaction ;)\"]"
      ]
     },
     "execution_count": 96,
     "metadata": {},
     "output_type": "execute_result"
    }
   ],
   "source": [
    "casual_conv_raw[:10]"
   ]
  },
  {
   "cell_type": "code",
   "execution_count": 98,
   "metadata": {},
   "outputs": [
    {
     "data": {
      "text/plain": [
       "[\"I have a pixel. It's pretty great. Much better than what I had before. \",\n",
       " 'Does it really charge all the way in 15 min?',\n",
       " \"Pretty fast. I've never timed it, but it's under half an hour. \",\n",
       " \"Samsung Galaxy J1. It's my first cell phone and I've had it for 7 months.\",\n",
       " \"What do you think of it? Anything you don't like?\",\n",
       " \"I love it. I can't think of anything I don't like about it.\",\n",
       " \"LG Optimus V. I know, it's old.\",\n",
       " \"If it does it's job, it's good enough!\",\n",
       " \"Don't kill yourself OP.\",\n",
       " \"I won't give them the satisfaction ;)\"]"
      ]
     },
     "execution_count": 98,
     "metadata": {},
     "output_type": "execute_result"
    }
   ],
   "source": [
    "casual_conv_raw[:10]"
   ]
  },
  {
   "cell_type": "code",
   "execution_count": 99,
   "metadata": {},
   "outputs": [
    {
     "data": {
      "text/plain": [
       "(2027,)"
      ]
     },
     "execution_count": 99,
     "metadata": {},
     "output_type": "execute_result"
    }
   ],
   "source": [
    "twss_conv.shape"
   ]
  },
  {
   "cell_type": "code",
   "execution_count": 108,
   "metadata": {},
   "outputs": [
    {
     "data": {
      "text/plain": [
       "56297"
      ]
     },
     "execution_count": 108,
     "metadata": {},
     "output_type": "execute_result"
    }
   ],
   "source": [
    "len(casual_conv_raw)"
   ]
  },
  {
   "cell_type": "code",
   "execution_count": 102,
   "metadata": {},
   "outputs": [],
   "source": [
    "casual_conv = np.array(casual_conv[:2027])"
   ]
  },
  {
   "cell_type": "code",
   "execution_count": 109,
   "metadata": {},
   "outputs": [
    {
     "data": {
      "text/plain": [
       "(2027,)"
      ]
     },
     "execution_count": 109,
     "metadata": {},
     "output_type": "execute_result"
    }
   ],
   "source": [
    "casual_conv.shape"
   ]
  },
  {
   "cell_type": "code",
   "execution_count": 173,
   "metadata": {},
   "outputs": [],
   "source": [
    "text_corpus_data = []"
   ]
  },
  {
   "cell_type": "code",
   "execution_count": 174,
   "metadata": {},
   "outputs": [],
   "source": [
    "for conv in casual_conv:\n",
    "    text_corpus_data.append([conv, 0])\n",
    "\n",
    "for conv in twss_conv:\n",
    "    text_corpus_data.append([conv, 1])"
   ]
  },
  {
   "cell_type": "code",
   "execution_count": 175,
   "metadata": {},
   "outputs": [
    {
     "data": {
      "text/plain": [
       "[['What kind of phone(s) do you guys have?', 0],\n",
       " [\"I have a pixel. It's pretty great. Much better than what I had before. \",\n",
       "  0]]"
      ]
     },
     "execution_count": 175,
     "metadata": {},
     "output_type": "execute_result"
    }
   ],
   "source": [
    "text_corpus_data[:2]"
   ]
  },
  {
   "cell_type": "code",
   "execution_count": 176,
   "metadata": {},
   "outputs": [],
   "source": [
    "import random"
   ]
  },
  {
   "cell_type": "code",
   "execution_count": 177,
   "metadata": {},
   "outputs": [],
   "source": [
    "random.seed(1)"
   ]
  },
  {
   "cell_type": "code",
   "execution_count": 178,
   "metadata": {},
   "outputs": [],
   "source": [
    "random.shuffle(text_corpus_data)"
   ]
  },
  {
   "cell_type": "code",
   "execution_count": 179,
   "metadata": {},
   "outputs": [
    {
     "data": {
      "text/plain": [
       "[['I liked the big balls better.', 1],\n",
       " ['My cat meows at me but protests when I cuddle her. Agony Uncle, impart on me some wisdom. ',\n",
       "  0],\n",
       " ['YOU FORGOT THE PERIOD AT THE END OF YOUR SENTENCE.  PREPARE YOUR ANUS.', 0],\n",
       " ['how long does it take to get hard?', 1],\n",
       " [\"It's so big! I can't possibly fit the whole thing in my mouth!\", 1],\n",
       " ['Up to you! :D \\n\\nMy purpose is to spread positivity around like a virus ;)',\n",
       "  0],\n",
       " ['Nice! I took a chem test yesterday too!\\n', 0],\n",
       " [\"Wow, that's the most impressive thing I've ever seen.\", 1],\n",
       " ['I think it might have been the group that was just using it.', 1],\n",
       " [\"If there's anything I'm an expert at, is making things fit into small spaces!\",\n",
       "  1]]"
      ]
     },
     "execution_count": 179,
     "metadata": {},
     "output_type": "execute_result"
    }
   ],
   "source": [
    "text_corpus_data[:10]"
   ]
  },
  {
   "cell_type": "code",
   "execution_count": 181,
   "metadata": {},
   "outputs": [],
   "source": [
    "sentences = []\n",
    "labels = []\n",
    "for sentence, label in text_corpus_data:\n",
    "    sentences.append(sentence)\n",
    "    labels.append(label)"
   ]
  },
  {
   "cell_type": "code",
   "execution_count": 189,
   "metadata": {},
   "outputs": [
    {
     "name": "stdout",
     "output_type": "stream",
     "text": [
      "<class 'numpy.str_'> <class 'numpy.ndarray'>\n"
     ]
    }
   ],
   "source": [
    "print(type(sentence), type(labels))"
   ]
  },
  {
   "cell_type": "code",
   "execution_count": 188,
   "metadata": {},
   "outputs": [],
   "source": [
    "labels = np.array(labels)"
   ]
  },
  {
   "cell_type": "code",
   "execution_count": 190,
   "metadata": {},
   "outputs": [
    {
     "data": {
      "text/plain": [
       "(4054,)"
      ]
     },
     "execution_count": 190,
     "metadata": {},
     "output_type": "execute_result"
    }
   ],
   "source": [
    "labels.shape"
   ]
  },
  {
   "cell_type": "code",
   "execution_count": 192,
   "metadata": {},
   "outputs": [],
   "source": [
    "sentences = np.array(sentences)"
   ]
  },
  {
   "cell_type": "code",
   "execution_count": 193,
   "metadata": {},
   "outputs": [
    {
     "data": {
      "text/plain": [
       "(4054,)"
      ]
     },
     "execution_count": 193,
     "metadata": {},
     "output_type": "execute_result"
    }
   ],
   "source": [
    "sentences.shape"
   ]
  },
  {
   "cell_type": "code",
   "execution_count": 194,
   "metadata": {},
   "outputs": [],
   "source": [
    "training_sentences = sentences[:3800]\n",
    "training_labels = labels[:3800]\n",
    "testing_sentences = sentences[3800:]\n",
    "testing_labels = labels[3800:]"
   ]
  },
  {
   "cell_type": "code",
   "execution_count": 199,
   "metadata": {},
   "outputs": [
    {
     "name": "stdout",
     "output_type": "stream",
     "text": [
      "['I liked the big balls better.'\n",
      " 'My cat meows at me but protests when I cuddle her. Agony Uncle, impart on me some wisdom. '\n",
      " 'YOU FORGOT THE PERIOD AT THE END OF YOUR SENTENCE.  PREPARE YOUR ANUS.'\n",
      " 'how long does it take to get hard?'\n",
      " \"It's so big! I can't possibly fit the whole thing in my mouth!\"] [1 0 0 1 1]\n"
     ]
    }
   ],
   "source": [
    "print(training_sentences[:5],training_labels[:5])"
   ]
  },
  {
   "cell_type": "code",
   "execution_count": 223,
   "metadata": {},
   "outputs": [],
   "source": [
    "vocab_size = 5000\n",
    "oov = \"<OUT_OF_VOCAB>\"\n",
    "embedding_dims = 30\n",
    "max_len = 100\n",
    "pad_type = \"post\"\n",
    "trunc_type = \"post\""
   ]
  },
  {
   "cell_type": "code",
   "execution_count": 224,
   "metadata": {},
   "outputs": [],
   "source": [
    "tokenizer = tf.keras.preprocessing.text.Tokenizer(num_words=vocab_size, oov_token=oov)"
   ]
  },
  {
   "cell_type": "code",
   "execution_count": 225,
   "metadata": {},
   "outputs": [],
   "source": [
    "tokenizer.fit_on_texts(training_sentences)"
   ]
  },
  {
   "cell_type": "code",
   "execution_count": 226,
   "metadata": {},
   "outputs": [],
   "source": [
    "word_index = tokenizer.word_index"
   ]
  },
  {
   "cell_type": "code",
   "execution_count": 227,
   "metadata": {},
   "outputs": [
    {
     "data": {
      "text/plain": [
       "2952"
      ]
     },
     "execution_count": 227,
     "metadata": {},
     "output_type": "execute_result"
    }
   ],
   "source": [
    "len(word_index)"
   ]
  },
  {
   "cell_type": "code",
   "execution_count": 243,
   "metadata": {},
   "outputs": [],
   "source": [
    "training_sequence = tokenizer.texts_to_sequences(training_sentences)"
   ]
  },
  {
   "cell_type": "code",
   "execution_count": 244,
   "metadata": {},
   "outputs": [
    {
     "data": {
      "text/plain": [
       "[[3, 1068, 7, 43, 196, 133],\n",
       " [10,\n",
       "  511,\n",
       "  1384,\n",
       "  57,\n",
       "  18,\n",
       "  19,\n",
       "  1385,\n",
       "  58,\n",
       "  3,\n",
       "  1386,\n",
       "  141,\n",
       "  566,\n",
       "  567,\n",
       "  1387,\n",
       "  27,\n",
       "  18,\n",
       "  83,\n",
       "  1388],\n",
       " [4, 439, 7, 759, 57, 7, 349, 15, 17, 622, 623, 17, 512],\n",
       " [44, 70, 138, 2, 116, 5, 24, 37],\n",
       " [11, 16, 43, 3, 48, 882, 76, 7, 188, 66, 6, 10, 42]]"
      ]
     },
     "execution_count": 244,
     "metadata": {},
     "output_type": "execute_result"
    }
   ],
   "source": [
    "training_sequence[:5]"
   ]
  },
  {
   "cell_type": "code",
   "execution_count": 245,
   "metadata": {},
   "outputs": [],
   "source": [
    "train_pad_sequence = tf.keras.preprocessing.sequence.pad_sequences(training_sequence, maxlen=max_len, padding=pad_type, truncating=trunc_type)"
   ]
  },
  {
   "cell_type": "code",
   "execution_count": 246,
   "metadata": {},
   "outputs": [
    {
     "name": "stdout",
     "output_type": "stream",
     "text": [
      "[[   3 1068    7   43  196  133    0    0    0    0    0    0    0    0\n",
      "     0    0    0    0    0    0    0    0    0    0    0    0    0    0\n",
      "     0    0    0    0    0    0    0    0    0    0    0    0    0    0\n",
      "     0    0    0    0    0    0    0    0    0    0    0    0    0    0\n",
      "     0    0    0    0    0    0    0    0    0    0    0    0    0    0\n",
      "     0    0    0    0    0    0    0    0    0    0    0    0    0    0\n",
      "     0    0    0    0    0    0    0    0    0    0    0    0    0    0\n",
      "     0    0]\n",
      " [  10  511 1384   57   18   19 1385   58    3 1386  141  566  567 1387\n",
      "    27   18   83 1388    0    0    0    0    0    0    0    0    0    0\n",
      "     0    0    0    0    0    0    0    0    0    0    0    0    0    0\n",
      "     0    0    0    0    0    0    0    0    0    0    0    0    0    0\n",
      "     0    0    0    0    0    0    0    0    0    0    0    0    0    0\n",
      "     0    0    0    0    0    0    0    0    0    0    0    0    0    0\n",
      "     0    0    0    0    0    0    0    0    0    0    0    0    0    0\n",
      "     0    0]]\n"
     ]
    }
   ],
   "source": [
    "print(train_pad_sequence[:2])"
   ]
  },
  {
   "cell_type": "code",
   "execution_count": 247,
   "metadata": {},
   "outputs": [],
   "source": [
    "test_sequence = tokenizer.texts_to_sequences(testing_sentences)"
   ]
  },
  {
   "cell_type": "code",
   "execution_count": 248,
   "metadata": {},
   "outputs": [
    {
     "data": {
      "text/plain": [
       "[28, 12]"
      ]
     },
     "execution_count": 248,
     "metadata": {},
     "output_type": "execute_result"
    }
   ],
   "source": [
    "test_sequence[1]"
   ]
  },
  {
   "cell_type": "code",
   "execution_count": 250,
   "metadata": {},
   "outputs": [],
   "source": [
    "test_pad_sequence = tf.keras.preprocessing.sequence.pad_sequences(test_sequence, maxlen=max_len, padding=pad_type, truncating=trunc_type)"
   ]
  },
  {
   "cell_type": "code",
   "execution_count": 252,
   "metadata": {},
   "outputs": [
    {
     "data": {
      "text/plain": [
       "array([[  65,   63,   20,  309, 2671, 2672, 2673, 2674,    9, 2675,  180,\n",
       "          33,   27,    7, 2676,   46,    0,    0,    0,    0,    0,    0,\n",
       "           0,    0,    0,    0,    0,    0,    0,    0,    0,    0,    0,\n",
       "           0,    0,    0,    0,    0,    0,    0,    0,    0,    0,    0,\n",
       "           0,    0,    0,    0,    0,    0,    0,    0,    0,    0,    0,\n",
       "           0,    0,    0,    0,    0,    0,    0,    0,    0,    0,    0,\n",
       "           0,    0,    0,    0,    0,    0,    0,    0,    0,    0,    0,\n",
       "           0,    0,    0,    0,    0,    0,    0,    0,    0,    0,    0,\n",
       "           0,    0,    0,    0,    0,    0,    0,    0,    0,    0,    0,\n",
       "           0],\n",
       "       [  28,   12,    0,    0,    0,    0,    0,    0,    0,    0,    0,\n",
       "           0,    0,    0,    0,    0,    0,    0,    0,    0,    0,    0,\n",
       "           0,    0,    0,    0,    0,    0,    0,    0,    0,    0,    0,\n",
       "           0,    0,    0,    0,    0,    0,    0,    0,    0,    0,    0,\n",
       "           0,    0,    0,    0,    0,    0,    0,    0,    0,    0,    0,\n",
       "           0,    0,    0,    0,    0,    0,    0,    0,    0,    0,    0,\n",
       "           0,    0,    0,    0,    0,    0,    0,    0,    0,    0,    0,\n",
       "           0,    0,    0,    0,    0,    0,    0,    0,    0,    0,    0,\n",
       "           0,    0,    0,    0,    0,    0,    0,    0,    0,    0,    0,\n",
       "           0]], dtype=int32)"
      ]
     },
     "execution_count": 252,
     "metadata": {},
     "output_type": "execute_result"
    }
   ],
   "source": [
    "test_pad_sequence[:2]"
   ]
  },
  {
   "cell_type": "code",
   "execution_count": 253,
   "metadata": {},
   "outputs": [],
   "source": [
    "model = tf.keras.Sequential([\n",
    "    tf.keras.layers.Embedding(vocab_size, embedding_dims, input_length=max_len),\n",
    "    tf.keras.layers.GlobalAveragePooling1D(),\n",
    "    tf.keras.layers.Dense(512, activation=tf.nn.relu),\n",
    "    tf.keras.layers.Dense(1, activation=tf.nn.sigmoid)\n",
    "])"
   ]
  },
  {
   "cell_type": "code",
   "execution_count": 254,
   "metadata": {},
   "outputs": [
    {
     "name": "stdout",
     "output_type": "stream",
     "text": [
      "Model: \"sequential\"\n",
      "_________________________________________________________________\n",
      "Layer (type)                 Output Shape              Param #   \n",
      "=================================================================\n",
      "embedding (Embedding)        (None, 100, 30)           150000    \n",
      "_________________________________________________________________\n",
      "global_average_pooling1d (Gl (None, 30)                0         \n",
      "_________________________________________________________________\n",
      "dense (Dense)                (None, 512)               15872     \n",
      "_________________________________________________________________\n",
      "dense_1 (Dense)              (None, 1)                 513       \n",
      "=================================================================\n",
      "Total params: 166,385\n",
      "Trainable params: 166,385\n",
      "Non-trainable params: 0\n",
      "_________________________________________________________________\n"
     ]
    }
   ],
   "source": [
    "model.summary()"
   ]
  },
  {
   "cell_type": "code",
   "execution_count": 255,
   "metadata": {},
   "outputs": [],
   "source": [
    "model.compile(optimizer=tf.keras.optimizers.Adam(), loss=tf.keras.losses.binary_crossentropy, metrics=['accuracy'])"
   ]
  },
  {
   "cell_type": "code",
   "execution_count": 256,
   "metadata": {},
   "outputs": [
    {
     "name": "stdout",
     "output_type": "stream",
     "text": [
      "Epoch 1/10\n",
      "119/119 [==============================] - 1s 7ms/step - loss: 0.6893 - accuracy: 0.5337 - val_loss: 0.6807 - val_accuracy: 0.4961\n",
      "Epoch 2/10\n",
      "119/119 [==============================] - 1s 5ms/step - loss: 0.5229 - accuracy: 0.8147 - val_loss: 0.4182 - val_accuracy: 0.8150\n",
      "Epoch 3/10\n",
      "119/119 [==============================] - 1s 5ms/step - loss: 0.2819 - accuracy: 0.8916 - val_loss: 0.3010 - val_accuracy: 0.8780\n",
      "Epoch 4/10\n",
      "119/119 [==============================] - 1s 6ms/step - loss: 0.1909 - accuracy: 0.9292 - val_loss: 0.2394 - val_accuracy: 0.9213\n",
      "Epoch 5/10\n",
      "119/119 [==============================] - 1s 5ms/step - loss: 0.1400 - accuracy: 0.9526 - val_loss: 0.1988 - val_accuracy: 0.9252\n",
      "Epoch 6/10\n",
      "119/119 [==============================] - 1s 6ms/step - loss: 0.1095 - accuracy: 0.9668 - val_loss: 0.1782 - val_accuracy: 0.9213\n",
      "Epoch 7/10\n",
      "119/119 [==============================] - 1s 6ms/step - loss: 0.0841 - accuracy: 0.9732 - val_loss: 0.1440 - val_accuracy: 0.9331\n",
      "Epoch 8/10\n",
      "119/119 [==============================] - 1s 8ms/step - loss: 0.0647 - accuracy: 0.9818 - val_loss: 0.1511 - val_accuracy: 0.9488\n",
      "Epoch 9/10\n",
      "119/119 [==============================] - 1s 6ms/step - loss: 0.0510 - accuracy: 0.9879 - val_loss: 0.1303 - val_accuracy: 0.9488\n",
      "Epoch 10/10\n",
      "119/119 [==============================] - 1s 6ms/step - loss: 0.0433 - accuracy: 0.9900 - val_loss: 0.1250 - val_accuracy: 0.9567\n"
     ]
    }
   ],
   "source": [
    "history = model.fit(train_pad_sequence, training_labels, epochs=10, validation_data=(test_pad_sequence, testing_labels))"
   ]
  },
  {
   "cell_type": "code",
   "execution_count": 257,
   "metadata": {},
   "outputs": [],
   "source": [
    "model.save('model-1.h5')"
   ]
  },
  {
   "cell_type": "code",
   "execution_count": 258,
   "metadata": {},
   "outputs": [],
   "source": [
    "import pickle\n",
    "\n",
    "with open('tokenizer.pickle', 'wb') as handle:\n",
    "    pickle.dump(tokenizer, handle, protocol=pickle.HIGHEST_PROTOCOL)"
   ]
  },
  {
   "cell_type": "code",
   "execution_count": 262,
   "metadata": {},
   "outputs": [],
   "source": [
    "with open(\"sentences.pickle\", \"wb\") as handle:\n",
    "    pickle.dump(sentences, handle, protocol=pickle.HIGHEST_PROTOCOL)\n",
    "\n",
    "with open(\"labels.pickle\", \"wb\") as handle:\n",
    "    pickle.dump(labels, handle, protocol=pickle.HIGHEST_PROTOCOL)\n"
   ]
  },
  {
   "cell_type": "code",
   "execution_count": 263,
   "metadata": {},
   "outputs": [
    {
     "data": {
      "image/png": "[encoded data removed]",
      "text/plain": [
       "<Figure size 432x288 with 1 Axes>"
      ]
     },
     "metadata": {
      "needs_background": "light"
     },
     "output_type": "display_data"
    },
    {
     "data": {
      "image/png": "[encoded data removed]",
      "text/plain": [
       "<Figure size 432x288 with 1 Axes>"
      ]
     },
     "metadata": {
      "needs_background": "light"
     },
     "output_type": "display_data"
    }
   ],
   "source": [
    "import matplotlib.pyplot as plt\n",
    "\n",
    "\n",
    "def plot_graphs(history, string):\n",
    "  plt.plot(history.history[string])\n",
    "  plt.plot(history.history['val_'+string])\n",
    "  plt.xlabel(\"Epochs\")\n",
    "  plt.ylabel(string)\n",
    "  plt.legend([string, 'val_'+string])\n",
    "  plt.show()\n",
    "  \n",
    "plot_graphs(history, \"accuracy\")\n",
    "plot_graphs(history, \"loss\")"
   ]
  },
  {
   "cell_type": "code",
   "execution_count": 284,
   "metadata": {},
   "outputs": [],
   "source": [
    "test_sentence = [\"Come in a straight line\", \"Hello, how are you?\", \"It is a rainy day.\"]\n",
    "test_seq = tokenizer.texts_to_sequences(test_sentence)\n",
    "test_pad = tf.keras.preprocessing.sequence.pad_sequences(test_seq, maxlen=max_len, padding=pad_type, truncating=trunc_type)"
   ]
  },
  {
   "cell_type": "code",
   "execution_count": 285,
   "metadata": {},
   "outputs": [
    {
     "data": {
      "text/plain": [
       "array([[ 73,   6,   8, 359,   1,   0,   0,   0,   0,   0,   0,   0,   0,\n",
       "          0,   0,   0,   0,   0,   0,   0,   0,   0,   0,   0,   0,   0,\n",
       "          0,   0,   0,   0,   0,   0,   0,   0,   0,   0,   0,   0,   0,\n",
       "          0,   0,   0,   0,   0,   0,   0,   0,   0,   0,   0,   0,   0,\n",
       "          0,   0,   0,   0,   0,   0,   0,   0,   0,   0,   0,   0,   0,\n",
       "          0,   0,   0,   0,   0,   0,   0,   0,   0,   0,   0,   0,   0,\n",
       "          0,   0,   0,   0,   0,   0,   0,   0,   0,   0,   0,   0,   0,\n",
       "          0,   0,   0,   0,   0,   0,   0,   0,   0],\n",
       "       [600,  44,  34,   4,   0,   0,   0,   0,   0,   0,   0,   0,   0,\n",
       "          0,   0,   0,   0,   0,   0,   0,   0,   0,   0,   0,   0,   0,\n",
       "          0,   0,   0,   0,   0,   0,   0,   0,   0,   0,   0,   0,   0,\n",
       "          0,   0,   0,   0,   0,   0,   0,   0,   0,   0,   0,   0,   0,\n",
       "          0,   0,   0,   0,   0,   0,   0,   0,   0,   0,   0,   0,   0,\n",
       "          0,   0,   0,   0,   0,   0,   0,   0,   0,   0,   0,   0,   0,\n",
       "          0,   0,   0,   0,   0,   0,   0,   0,   0,   0,   0,   0,   0,\n",
       "          0,   0,   0,   0,   0,   0,   0,   0,   0],\n",
       "       [  2,  12,   8,   1,  86,   0,   0,   0,   0,   0,   0,   0,   0,\n",
       "          0,   0,   0,   0,   0,   0,   0,   0,   0,   0,   0,   0,   0,\n",
       "          0,   0,   0,   0,   0,   0,   0,   0,   0,   0,   0,   0,   0,\n",
       "          0,   0,   0,   0,   0,   0,   0,   0,   0,   0,   0,   0,   0,\n",
       "          0,   0,   0,   0,   0,   0,   0,   0,   0,   0,   0,   0,   0,\n",
       "          0,   0,   0,   0,   0,   0,   0,   0,   0,   0,   0,   0,   0,\n",
       "          0,   0,   0,   0,   0,   0,   0,   0,   0,   0,   0,   0,   0,\n",
       "          0,   0,   0,   0,   0,   0,   0,   0,   0]], dtype=int32)"
      ]
     },
     "execution_count": 285,
     "metadata": {},
     "output_type": "execute_result"
    }
   ],
   "source": [
    "test_pad"
   ]
  },
  {
   "cell_type": "code",
   "execution_count": 286,
   "metadata": {},
   "outputs": [],
   "source": [
    "pred_class = model.predict_classes(test_pad)\n",
    "pred_score = model.predict(test_pad)"
   ]
  },
  {
   "cell_type": "code",
   "execution_count": 287,
   "metadata": {},
   "outputs": [
    {
     "name": "stdout",
     "output_type": "stream",
     "text": [
      "[[1]\n",
      " [0]\n",
      " [0]]\n",
      "[[0.9890983 ]\n",
      " [0.0104784 ]\n",
      " [0.09592924]]\n"
     ]
    }
   ],
   "source": [
    "print(pred_class)\n",
    "print(pred_score)"
   ]
  },
  {
   "cell_type": "code",
   "execution_count": null,
   "metadata": {},
   "outputs": [],
   "source": []
  }
 ],
 "metadata": {
  "kernelspec": {
   "display_name": "Python 3",
   "language": "python",
   "name": "python3"
  },
  "language_info": {
   "codemirror_mode": {
    "name": "ipython",
    "version": 3
   },
   "file_extension": ".py",
   "mimetype": "text/x-python",
   "name": "python",
   "nbconvert_exporter": "python",
   "pygments_lexer": "ipython3",
   "version": "3.8.2"
  }
 },
 "nbformat": 4,
 "nbformat_minor": 4
}
