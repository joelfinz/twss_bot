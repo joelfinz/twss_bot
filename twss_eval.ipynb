{
 "cells": [
  {
   "cell_type": "code",
   "execution_count": 22,
   "metadata": {},
   "outputs": [],
   "source": [
    "import pickle\n",
    "import tensorflow as tf\n",
    "\n",
    "def eval(sentence):\n",
    "\n",
    "    with open(\"tokenizer.pickle\", \"rb\") as handle:\n",
    "        tokenizer = pickle.load(handle)\n",
    "    \n",
    "    model = tf.keras.models.load_model(\"model-1.h5\")\n",
    "    print(tokenizer)\n",
    "    sequence = tokenizer.texts_to_sequences([sentence])\n",
    "    padded_sequence = tf.keras.preprocessing.sequence.pad_sequences(\n",
    "        sequence,\n",
    "        maxlen=100,\n",
    "        padding=\"post\",\n",
    "        truncating=\"post\"\n",
    "    )\n",
    "\n",
    "    pred_class = model.predict_classes(padded_sequence)\n",
    "    pred_score = model.predict(padded_sequence)\n",
    "    print(pred_class)\n",
    "    if pred_class[0]:\n",
    "        print('That is what she said! ;)')\n",
    "        print(f'[INFO] pred_class : {pred_class}')\n",
    "        print(f'[INFO] pred_score : {pred_score}')\n",
    "    else:\n",
    "        print('Not a TWSS punchline! :(')\n",
    "        print(f'[INFO] pred_class : {pred_class}')\n",
    "        print(f'[INFO] pred_score : {1.0 - pred_score}')\n",
    "\n",
    " "
   ]
  },
  {
   "cell_type": "code",
   "execution_count": 26,
   "metadata": {},
   "outputs": [
    {
     "name": "stdout",
     "output_type": "stream",
     "text": [
      "<keras_preprocessing.text.Tokenizer object at 0x7f19c846d640>\n",
      "[[1]]\n",
      "That is what she said! ;)\n",
      "[INFO] pred_class : [[1]]\n",
      "[INFO] pred_score : [[0.6850345]]\n"
     ]
    }
   ],
   "source": [
    "eval(\"it is so sexy\")"
   ]
  },
  {
   "cell_type": "code",
   "execution_count": null,
   "metadata": {},
   "outputs": [],
   "source": []
  }
 ],
 "metadata": {
  "kernelspec": {
   "display_name": "Python 3",
   "language": "python",
   "name": "python3"
  },
  "language_info": {
   "codemirror_mode": {
    "name": "ipython",
    "version": 3
   },
   "file_extension": ".py",
   "mimetype": "text/x-python",
   "name": "python",
   "nbconvert_exporter": "python",
   "pygments_lexer": "ipython3",
   "version": "3.8.2"
  }
 },
 "nbformat": 4,
 "nbformat_minor": 4
}
